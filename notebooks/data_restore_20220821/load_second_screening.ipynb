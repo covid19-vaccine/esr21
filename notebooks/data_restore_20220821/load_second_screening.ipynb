{
 "cells": [
  {
   "cell_type": "code",
   "execution_count": 17,
   "id": "fbb8169f",
   "metadata": {},
   "outputs": [],
   "source": [
    "path = '/Users/ckgathi/Downloads/data_restore_202208212126/'\n",
    "fname = path + 'screeningeligibility.csv'\n",
    "f = open(fname, 'r')\n",
    "lines = f.readlines()\n",
    "headers = lines[0]\n",
    "headers = headers.strip()\n",
    "headers = headers.split(',')\n",
    "lines.pop(0)\n",
    "del headers[0]\n",
    "se_data = []\n",
    "count = 0\n",
    "for line in lines:\n",
    "    line = line.strip()\n",
    "    line = line.split(',')\n",
    "    del line[0]\n",
    "    if len(line) == len(headers):\n",
    "        data = dict(zip(headers, line))\n",
    "    else:\n",
    "        print(line)\n",
    "        print('line: ', len(line))\n",
    "        print('headers: ', len(headers))\n",
    "        print(headers)\n",
    "        raise ValidationError('Line is not the right size')\n",
    "    data = dict(zip(headers, line))\n",
    "    se_data.append(data)\n",
    "    count += 1"
   ]
  },
  {
   "cell_type": "code",
   "execution_count": 22,
   "id": "c4bfd50a",
   "metadata": {},
   "outputs": [],
   "source": [
    "from esr21_subject.models import ScreeningEligibility\n",
    "from django.contrib.sites.models import Site\n",
    "from django.core.exceptions import ValidationError\n",
    "for data in se_data:\n",
    "    \n",
    "    site_domain = data.get('site')\n",
    "    try:\n",
    "        site = Site.objects.get(domain=site_domain)\n",
    "    except Site.DoesNotExist:\n",
    "        raise ValidationError('Site Does not exist')\n",
    "    else:\n",
    "        data.update(site=site)\n",
    "    se = ScreeningEligibility(**data)"
   ]
  },
  {
   "cell_type": "code",
   "execution_count": 26,
   "id": "47d0e9b9",
   "metadata": {},
   "outputs": [
    {
     "data": {
      "text/plain": [
       "str"
      ]
     },
     "execution_count": 26,
     "metadata": {},
     "output_type": "execute_result"
    }
   ],
   "source": [
    "type(se.created)"
   ]
  },
  {
   "cell_type": "code",
   "execution_count": null,
   "id": "173357af",
   "metadata": {},
   "outputs": [],
   "source": []
  }
 ],
 "metadata": {
  "kernelspec": {
   "display_name": "Django Shell-Plus",
   "language": "python",
   "name": "django_extensions"
  },
  "language_info": {
   "codemirror_mode": {
    "name": "ipython",
    "version": 3
   },
   "file_extension": ".py",
   "mimetype": "text/x-python",
   "name": "python",
   "nbconvert_exporter": "python",
   "pygments_lexer": "ipython3",
   "version": "3.8.2"
  }
 },
 "nbformat": 4,
 "nbformat_minor": 5
}
